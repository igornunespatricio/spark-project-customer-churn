{
  "nbformat": 4,
  "nbformat_minor": 0,
  "metadata": {
    "colab": {
      "provenance": [],
      "collapsed_sections": [
        "XQ6EdkxD2SEQ",
        "bdwRgwTy7LKT"
      ],
      "include_colab_link": true
    },
    "kernelspec": {
      "name": "python3",
      "display_name": "Python 3"
    },
    "language_info": {
      "name": "python"
    }
  },
  "cells": [
    {
      "cell_type": "markdown",
      "metadata": {
        "id": "view-in-github",
        "colab_type": "text"
      },
      "source": [
        "<a href=\"https://colab.research.google.com/github/igornunespatricio/spark-project-customer-churn/blob/main/data_analysis.ipynb\" target=\"_parent\"><img src=\"https://colab.research.google.com/assets/colab-badge.svg\" alt=\"Open In Colab\"/></a>"
      ]
    },
    {
      "cell_type": "markdown",
      "source": [
        "# Setting Up environment\n",
        "\n",
        "\n",
        "1.   Install Java\n",
        "2.   Install and unpack Spark and Hadoop Distributed File System (HDFS)\n",
        "3.   Define environment variables for Java and Spark\n",
        "4.   Install and initialize findspark\n",
        "5.   Check Spark installation\n",
        "\n"
      ],
      "metadata": {
        "id": "XQ6EdkxD2SEQ"
      }
    },
    {
      "cell_type": "code",
      "source": [
        "# Java installation\n",
        "!apt-get install openjdk-8-jdk-headless -qq > /dev/null"
      ],
      "metadata": {
        "id": "h3C6AHqF2WTy"
      },
      "execution_count": 1,
      "outputs": []
    },
    {
      "cell_type": "code",
      "source": [
        "# Downloading Spark and Hadoop Distributed File System (HDFS) files\n",
        "!wget -q https://archive.apache.org/dist/spark/spark-3.1.2/spark-3.1.2-bin-hadoop2.7.tgz\n",
        "\n",
        "# Unpacking files\n",
        "!tar xf spark-3.1.2-bin-hadoop2.7.tgz"
      ],
      "metadata": {
        "id": "TmUYHd7F3IX-"
      },
      "execution_count": 2,
      "outputs": []
    },
    {
      "cell_type": "code",
      "source": [
        "# Importing os library\n",
        "import os\n",
        "\n",
        "# Defining Java's system variable\n",
        "os.environ[\"JAVA_HOME\"] = \"/usr/lib/jvm/java-8-openjdk-amd64\"\n",
        "\n",
        "# Defining Spark's system variable\n",
        "os.environ[\"SPARK_HOME\"] = \"/content/spark-3.1.2-bin-hadoop2.7\""
      ],
      "metadata": {
        "id": "LMZMRkk73N0t"
      },
      "execution_count": 3,
      "outputs": []
    },
    {
      "cell_type": "code",
      "source": [
        "# Necessary to run PySpark\n",
        "!pip install -q findspark"
      ],
      "metadata": {
        "id": "rT6OI9tI5fwi"
      },
      "execution_count": 4,
      "outputs": []
    },
    {
      "cell_type": "code",
      "source": [
        "# Importing installed finspark library\n",
        "import findspark\n",
        "\n",
        "# Initialize findspark\n",
        "findspark.init()"
      ],
      "metadata": {
        "id": "r3WwHA115pGh"
      },
      "execution_count": 5,
      "outputs": []
    },
    {
      "cell_type": "code",
      "source": [
        "# # Importing package to initialize Spark session\n",
        "from pyspark.sql import SparkSession\n",
        "\n",
        "# # Imprting package to get number of cpu workers\n",
        "# import multiprocessing\n",
        "\n",
        "# cores = multiprocessing.cpu_count() # Count the number of cores in the computer\n",
        "# print(f\"Computer has {cores} cores\")\n",
        "\n",
        "# # Initialize spark session\n",
        "# sc = SparkSession.builder.master('local[*]').getOrCreate()\n",
        "\n",
        "# # Check if session was created\n",
        "# sc"
      ],
      "metadata": {
        "id": "fQ2a2f1v5xiJ"
      },
      "execution_count": 6,
      "outputs": []
    },
    {
      "cell_type": "markdown",
      "source": [
        "If everything is right, the output of the last cell should per below:\n",
        "\n",
        "![successful spark instalation.png](data:image/png;base64,iVBORw0KGgoAAAANSUhEUgAAALoAAACyCAYAAAD1XdWcAAAAAXNSR0IArs4c6QAAAARnQU1BAACxjwv8YQUAAAAJcEhZcwAADsMAAA7DAcdvqGQAAAAhdEVYdENyZWF0aW9uIFRpbWUAMjAyMzowODowMSAxMzo0NjoyMgiHxpUAABXASURBVHhe7Z1BiCvHmcc/55AH4tnaGBEGEvod5OwcvAJfxBor7EJMXwY2h5eDdZIT5iJYBsY55BaGIbcckoEhoENEvIJddLEPexgCIj6tAkEsBJQcZCLwa7IwywoHPT8Efhfv931V1V3davVI6h7NjOr7GfmNVK3qUuvfVV+Vvu+rV95+++2vQBD2nK/pfwVhrxGhC04gQhecQIQuOEFhk9HmWRd8Tz9BgsExnPf1kwKpn15Cu1bKrH9XbVE04azrg7cYQ+fkAkb61dvnrs77MCmkRyfxkbBIUMfHHRgvADz/Ek7r+oAdcp/aItwfXnnvvfe+evbsmX66HaoHXcC4cwIXt9y13NSj77ItwsPhlWaz+dVnn32mn25HZCqkCcwMsQEE4IFXotfs4+pwetkG1K4mKgtFHeA7Pe6moTNvWELXdWPNg+NzIN1ntwWpn8JluwbmdPYNY85nWIw7cKIrWF22bEIkj7XPEd6I4xnUatxQ/lzHG9tW8fPiRVTXZTyGSk1/vpVmjbnmAbajgu3QbcV2DMDX1y/++bHh0DUFad+RfV76PgYAflRR1I7E9bc/+9L3/fwLgNdejbVj247sa3lFTvSvxvjRiRLU2l3oXp7ipUxQqsC8Z8wJOu4MvypquLrgg2MqG+AlwrJW/P0eTLAMy2NioC+LRE4fWomcyGyLuch0cbG+Dto1oVmDZS28yHRRqWwQYA211s1lCcIvi00nfODBnt+Fy9jBJajCVVgXeI3CTCuvfA0n+rNhI+GILvJKPChfn2A7lImHDYXGnD6jeh5+Ri3y6PNH358hdl6s12/MoWO1o0UVJa4/f994zqRewu/7g39X7ag2dHkTDuneWUxhuIHIiWJWXUYX+CFJpBr8YO1u/EJEjRvBcKouxiEe0D+nD3wFB5coSu6dlwkmy72d56tRIBgk7uyMttQbVe5JTH2j4RRvChRdI7rMpVqbL/yU2xWvO6tMUYdGFc+APdhVdOclvixiAVP9TU3ndC1KUK7y09yEn+16xv9WDmwJJVnAfEr/jkAdbtplniuaSl1hm/sTvjv5+zMsVEXheRfTIffg5jmhrj92TNHFgSt1ccD6CqzvW2vFlDcPWR+m7k0ocHmxD+d0F3ZMj+pBY0U3ZX8JNBR1uyjaGd3llkDXxLOvdkh2W6iH7XbxoYfQEqkMb5ChOTnfHHSMvlmzymJUoRyOyQlKZSy9b8zgem3F6BGSPrs2SeybaLZGRdXVF2fljW53RskbbhOKX0enHpXH49XUDyr87+y6qocitOE2tFFpGL1x2F/RltCsMA99bjW60MPccDgEnyk5Z5VFTIE76DQWcyzdBLLBtbDwETd9NiVZ1za3HJmI5hqoR2i/r4kavdIwI0sKoyGoTr0FDdWdb2y2EAUI3VzEqIeLhGy1CHtCZS/q4R3lEo5QurernzZ4aFoHqrt/TqKzbfrstqjeASWqRwGyp+mLZ72SHcoioJpwRNCjAQ/JWWUxzFBr2cbNIzaxNh9u9ai0pajiJOva7JZTpkpk4jV5FN58ydb0zrXo4sCRujgZ4jXXtITv3OY6KgoQOl1EEhz2cCyybjgZi3XS2GvPD6mcbGszgcT3qm6Z39uuzXDGjU/XHuaNjWeEdUNbqIcnkdIESJfRyMBl/XOeOLIdTu/VkyYWWFZZgtHFiZ7kqvPTME/nzyfUOybx+clyWZobrUPi+vOcjCamN/zgZTooFNFWZguxAzfd+DLYA/66hbvCrNbk0FDxNrogFIxZLdvWbCFE6MI9hn4rUSYmmb69HOafRBgJTiA9uuAEInTBCUToghOI0AUnEKELTiBCF5xAhC44gRPB0ewdKe4HTlNIj07iU44+5B13lwHJ6pc03zMRS/QYQMA+5Gn+49vQhLO0CKotaJ5J0PauKEToyqE+ila5OCGBbeHdlpP6acvyjDQYF1X7tW3RDmr6WR6WRh3hVinEdIm+NBJZUuDGe/G2g6MpHM/En2aL2tRrsM0g9VmwDUvBy9MV7Uy0n4+lykzb9HEQeeANplXwrfOTq/CDduN9ABTSo9+P4GgdxnZDJI9t43Odg3WDl2mkovYhZPPziGVErtuvfa3DAA1+MwUanMJpi8L2sK29C+hfnKh6ue0P3Ff9gVDMqgs51IchZkiaTbyr4OhMCg5erjdABUtN1AgShn3puvrn+kapcVsX494GbRWKpMDlRW0L6zAzEvJug6N1vGZmdNItBS+HETPahLHqika77aNjhPwUKHTNnQVHm5GiAqszPBQZvGxBdjnd5OHDzBHQtGGThVg2yYTdUYDQadJFvdndB0ePLnox+19hty9v8HLiRtGmCg4r6nwU8kXn0tkB1CqQdVPieTmRD7I6Il64DQoQ+g0ByQbstW8/OFotbQ6CqC1s9/PkUfWy+YKXoxuFcrucNel8NLnW5zNxjfTBdXYv+twUGaNuSnqryn4VRsTT5H0pbYZQNBIcLThB8Ta6INxDROiCE0hwtOAE0qMLTiBCF5xAhC44gQhdcAIRuuAEInTBCUToghMUI/R3PoR/+Okn0eODX8DXdVFhPPkFfOen/wmVJ/r5Sn4CHrbBe0c/DbFf/wFUPvgEvvP0B1wi7D/5hU4if/d1uO59D/70M/X49Nkb8Pe3IXZB2JLcQv/6wesAL/4Cz63Np19+/F/w/PEb8NqNva8g7IbcQn95/TnAkqh/DsHPvg8zEr8xOZ5G5k3MZOByy+z50U+s1z8E70fqde9N9bLhVX79Q3hVPxeELPKbLr//ITz762M4aBmxpokPy598Dp+SadP7I8Cb/xrZyk/fgi9/p80eLPvy29+17HAPHs1/xWXBn/VLCIn8CfwWX/8hfKFfE4QsCpmMfvEbY5//Fp6jOJ+Q4BM2+vM//Bhe0h/PfgzXfwV47ZB67o9g9ksU8e+pAPnW6/BI/6l4AX/774/034pvPNUi/83P9SuCcDOFCD2CTBYt+MdvwZPQRHkBi//RfyJfzl/ov4wJoh//+Dp8qV9P5zHeCC8SvX6SKSyw+kcHsqIiROQUulqmW17KU2KLeAylb+k/kUflx+oPtMMPvv0iWrH5+C/q9ZXgsR9/H56hGXPwdMNVnScHfJPYN5zgDjmF/hE8f/YCXns3sb79zr/AweO42aFMFYTFjabMxJge0U3w6vfeSpgu6bz8+N/gGuwRw0a16dGb78faxHUnVocEd8hturzEHvZPv/vcmozi4100xc2qC/MCbffvqrLWWwB//pWyy429/q563zcmZOPHe/900Lb/Q7AkZgO16VPq9a02Pfm7P8Knv9TzBME5bj/CiJYJW2/A33q28AVht+QS+jf/6X345j+/r58tQ3a3LXTqYe8b/zf8D/jfT36tnwn7ivToghNIcLTgBAWvowvC/USELjiBCF1wAhG64AQidMEJROiCE4jQBScQoQtOIEIXnECELjiBCF1wAhG64AQidMEJROiCE+QTut5A9jJlK/T66SXYm+zmonlWXF2Ck+QTut45uVRObn+rd4cOJryJrSDcNTlNF72Tstki3FBvQJV2h74qSOb9c2t/fUHYnPwRRmS+tGsws7ZEJ7OlXZ2GO0U3z7rgm03+gwEc84F1OL1sQ3kWgOdhIb1+dcB14VjAhNusk+niAwy02Ll+2n6csHak5vNAAAHWp05HW7GfwFq7nwt7Tf7JqDZfvEPTpyuzZTEdsvhIlH6F9uI/xl65A+OKH7PpvcpclZ1P4bSlbphjet4ZQ8VPsctR9O3aDEWv64MatO299L0KzDuqjkFQglrrFFskuE4Bqy7afKkcKEFps2U6ZJmz6IOh6nHp2IthAKVqIxSfuSEMXkMLc3QBJynmSvOQen9j+6v6YqZTMAx78Okc2yUISAFCp059CotSFRqo0HqjCqXFFFjnUIUyWhie34VuVz/IhimVsSQJivZE99Dm2Mtkb1yHgwreHPOpfi4I61GI0JX5UoJqoxkzWygHI3WqZGuzORI+Vk0sSezmmAEEpRq0YkuXI7iepa3yCEI2xQgdBUjmS6nmQy00W6LXQ3MEoQnjck9NNOEMe/HI3FY3yezaNmwA+hPbVMEJbcM2ZQQhnYKETp06mi/0R2i2KEYXJzCYReaI7wUw0KskcfpwzhNQbbZ021CbDcKVnJD+OXTGFfDNMWjsdJYOEoQ4ksBIcILCenRBuM+I0AUnEKELTiBCF5xAhC44gQhdcAIRuuAEInTBCdz6wUj7zht/d9uX/SZCH/gN3sMuCpdtiFznO3AizvF3gls9Orv+Gqcx5Sl5tOTwvgz557TLQ+iMN3P7rZ+2oDrtqPN1xgC1FqSE1wo7YM+EnnQMQziAOy2wmlyIF7COx2//HIW6hT8N+fmEPbj28BTHy7thz4TehyvsdaNoJ9Q5+cdb3o0qOwE5hPlQGfd2F2bHASkBTMT/7E7YO9NldDGEwHLjRZ3HgrSplzWmy7TaTk3VUTw40nBcrQR43xV7aKP3YRJ4wJ069aIQdxuO0GF9t25LkDnFkd3LLsfCztjLyWj/agwVVDqZLbMwXjWJCtqIh+UpGz89MCSLFe/j+YGI/D6wl0LniV/F55QbdmqZyD5XQRvl4fFay33mfby8WNJBJLEZbzrNI7WUGYuZ3fgmEopAAi8EJ9jPHl0QEojQBScQoQtOIEIXnCC30M2KxPIPL+TQpFYa1ligEIRbpZgefbEAsPIpMvyTt/47B+RQtc5SniBkUYzQZzOY6dyLIdUylIIAAv1UEO6S3Ovo7KddHsIAfGjMI39r6okPJwMA3/plMOkPHuZKV8eHOdS1zzfaPlEedHNsrA4r/znlUG/gYeCBR5sQSF50waKwySjlRIzSQTfh0Et66qHNnsh/vvAayj8bReqHOdSPOYUdJRfldHY0JIQ3hHGO0nUMZlBrWy64JbxThlQmIhfiFLfq0p9AYNJBNw/BW8wh7uqtMuWGPh9k2ug/mVIUBEH+36k/zXO94+hn/f4VjBfagYsRN1ghneKEztlvlegoWX8ywT/BE0vj89GoqKSkBO1RhF237ROSNv+sU3J042vCDxWmVjlIrvgIQpwCha5TRB+eodlip47WoG3dwNfHetuV414itIc35FJlFLLmpWzrMqLk6GS/6+PMQ+IwhZsoUOjkNDhFuxsng4nU0RFRKJnx7CN4Ld7y6lOCTpo+CJtHVpwnu8HKOr1wM4UKXcVFokZTzBYKTObthrR5QisyOH1l4SdzqHf9Cox7yo9cJf739Y2QyKGOE1McIsTXW7gRcdMVnKDYHl0Q7ikidMEJROiCE4jQBScQoQtOIEIXnECELjjB/q2j2268G6V43hJyDzb+xZbbsYHdmJOuxiEUhXUE1yeJVHUxV+QABiu3lBfWZf96dJMamv17d4D20clMKU0CpzaFIldhhpenVYDZnP3uY4mNzGcgV2b9kpAPMV3uBOWy3IMG1Lwa/r8Hx7c98jiOc0KPuQon86aTGRKWWc5i2nksLMudVk716C0YwjgY4/9bWG9aDnehKJwSOoncB21GsLlRAd+Ilm3tSuRGjI/Q0ojtlKEioNbZKWM1qkc/uZgCVMqAT7BescNvE4eEXoeDyiKeK53cinVUFAeLrNwYQGfL1Q+aexYT7EGCF4HvArHR16B55oNnJpTUo0tqgweHQ0IfwfWsBDXL5uDgD73tCwd3145S7GQaCSgORIeBcKSU+lN4OOzfOrq9rm0I19NpEhhth5hcZ4+teSOBSdMRqzOAMdr2VehxCF/yPYy1Xm7SgSTX19eC19PLMBT7PTcSeHHLiNDvB2KjC04gQt8FFPNKKzbrRnGbdfvQDUDIi5gughNIjy44QYFC1z+qFJZkZVV96udzyeUibEJxQqe8iJQmOty1uSBMIlJByEFBQsdetuFBMLni/IuNApVJewzUWnmdqATXKWYyaq33TmnduDqNfojhsipMxzOo1dSPLouxzqOeVcamC+VWVznWK+Hr6kcf2gyXl6a5Dmt1wvxYs6LuHrTCH3iic9Hh1g8/uwjYEHZKIT06bUVufkofXQwhSO5+gTKsVecqOWhnjF1027Kxs8qIPpwPVv88vzLnOoN1lyeqjOtoo8x7/JwCJcI6m2co8hkM6Dh8cHo8mQTsFQUIvQ6oc8srsA+ToATVuNIhMHvymxyMUVLzzDKmfw6DwAN/SXw35FynHTFMu6ZzfBZl+eVEphrluXgV/vrYv6IbpuC5hnCn5Bd68whqJew528qF1bixxnvgBRifKGI6twPEssoilPj8pdWW5qqc62ujnLaotw/rYVOoApJ2fX/ILXTVG3aUeRA+KFOuvRNFlC6aqJbtfjerzAJ7+x7lTW8cQVm/RHZ4Zs71tSCvRmWvxz+DbA+zT+QUOu1VlJL0n82XuAkS/s3iRHPF2oMlq8xmdNGDMW/GpV9g0nOub0LSRZcmphLatl/kEnr9tLEy6b/Ka44TQxbhAnv4RmgWxHOaZ5UlQZucjHiDselTcq5vBM4BOKxOmy6qGeIxuE/cvq+LWeZL2w4xq0wQCqSAVRdBuP+I0AUnEDddwQmkRxecQIQuOIEIXXACEbrgBDIZvRMSrsZFwL9JbJMaQ7VFeSiTO4X9m0ZW2cNCenTnUR6gyj8pSVbZw0KELjjB3pku5JBFecenVT8x5JqIJctc4FRz9BIN9/YwTURbqjTPlB8NRTqpWCVruxU2GSxnMjs6ieo/nMAAfHZdJlSau7jpYqKb7IinlSTPF4uoKsN0XIGa/hBhSj0i8b5YGUPXpwHzVPMkq+xhsJc9eqnms4jI3ZaDljixaB+uyM3X8qiMBVyQX/0sypibzFfu+fRFq7JBYMXF3pQ73fPxJtHlgwC8Rjz+lUVOoYdYfqPIEfLQDCOq6BFTqwc1Sn+3dC4UKtvv5n1007rlnbmfpgv2cub75xzolQP+wjnML4wcIhfjAIZGXBSBxBm10gVg505nt97QRZJ6O+X1SI+l3OnYw0fBV+exLVzI65LzMibjU2kksOq8tILNKTCFvTVTQ/1wpDEfnD6Pzv3OGRrwP+Od2cVhzHMssMQxG5385HVvzOk5VJwrE/bMEzhkMVyulWYjT+70YNCBccWPCZnRG4CZh93Tj3h3DHx9cqhEu+42M1Yb1ePhmiHbsPdCp6EepsOwx6SQPKgewVmjEtv9IqIP5yiEQbDKrx3ta07tQe/NmzudVjUGMFsKCF8DvhkGEJheOws9Wrkc772Xk9FYvnIzWQvRk07Izo1uv69Jex9ZAo5NGjNyp3NZY56SOiM+GQ0nikttTZKcMFMz7TqsdfTk81g7kXDSrCbp8fszPoFPL9NPHwj7KfTMfORKLNXpGiscGhJ6Y77+8cL9w711dM5aYE1CBSdwR+g0lNPkjbdYjC8dCvuP+LoITuCe6SI4iQhdcAIRuuAEInTBCUToghOI0AUnEKELTiBCFxwA4P8B9bu5mf5M3BkAAAAASUVORK5CYII=)"
      ],
      "metadata": {
        "id": "u6XsYCJc6fvO"
      }
    },
    {
      "cell_type": "markdown",
      "source": [
        "# Downloading Kaggle Dataset\n",
        "\n",
        "In this case, a customer-churn dataset found [here](https://www.kaggle.com/datasets/muhammadshahidazeem/customer-churn-dataset) will be used. More info on the dataset in this link.\n",
        "\n",
        "1. Install Kaggle package\n",
        "2. Upload kaggle.json file with credentials (follow instructions [here](https://www.kaggle.com/discussions/general/74235))\n",
        "3. Create kaggle directory\n",
        "4. Upload kaggle.json file\n",
        "5. Change permition of kaggle json file\n",
        "6. Copy API command from the Kaggle dataset you want to use by clicking in $\\ \\vdots$  \n",
        " and then \"Copy API Command\". In this case, [this](https://www.kaggle.com/datasets/muhammadshahidazeem/customer-churn-dataset) dataset is being used\n",
        "7. Paste the copied command above in a new code cell and run\n",
        "8. After waiting the download to finish, under the /content diretory you should have the zipped file with the dataset in the /content directory\n",
        "9. Unzip the data into a directory of choice. In this case, \"customer-churn\""
      ],
      "metadata": {
        "id": "bdwRgwTy7LKT"
      }
    },
    {
      "cell_type": "code",
      "source": [
        "# Importing Kaggle package\n",
        "!pip install -q kaggle"
      ],
      "metadata": {
        "id": "Wf8PqZ0u-npT"
      },
      "execution_count": 7,
      "outputs": []
    },
    {
      "cell_type": "code",
      "source": [
        "# Upload your Kaggles API secret KEY in file kaggle.json (link: https://www.kaggle.com/discussions/general/74235)\n",
        "from google.colab import files\n",
        "files_uploaded = files.upload()"
      ],
      "metadata": {
        "colab": {
          "base_uri": "https://localhost:8080/",
          "height": 73
        },
        "id": "Ba9Js3wLAyaH",
        "outputId": "a05ecba3-d514-403d-98a4-1d3baf7883c7"
      },
      "execution_count": 8,
      "outputs": [
        {
          "output_type": "display_data",
          "data": {
            "text/plain": [
              "<IPython.core.display.HTML object>"
            ],
            "text/html": [
              "\n",
              "     <input type=\"file\" id=\"files-670fc354-7e46-42c3-83a8-d69a4d18c5a5\" name=\"files[]\" multiple disabled\n",
              "        style=\"border:none\" />\n",
              "     <output id=\"result-670fc354-7e46-42c3-83a8-d69a4d18c5a5\">\n",
              "      Upload widget is only available when the cell has been executed in the\n",
              "      current browser session. Please rerun this cell to enable.\n",
              "      </output>\n",
              "      <script>// Copyright 2017 Google LLC\n",
              "//\n",
              "// Licensed under the Apache License, Version 2.0 (the \"License\");\n",
              "// you may not use this file except in compliance with the License.\n",
              "// You may obtain a copy of the License at\n",
              "//\n",
              "//      http://www.apache.org/licenses/LICENSE-2.0\n",
              "//\n",
              "// Unless required by applicable law or agreed to in writing, software\n",
              "// distributed under the License is distributed on an \"AS IS\" BASIS,\n",
              "// WITHOUT WARRANTIES OR CONDITIONS OF ANY KIND, either express or implied.\n",
              "// See the License for the specific language governing permissions and\n",
              "// limitations under the License.\n",
              "\n",
              "/**\n",
              " * @fileoverview Helpers for google.colab Python module.\n",
              " */\n",
              "(function(scope) {\n",
              "function span(text, styleAttributes = {}) {\n",
              "  const element = document.createElement('span');\n",
              "  element.textContent = text;\n",
              "  for (const key of Object.keys(styleAttributes)) {\n",
              "    element.style[key] = styleAttributes[key];\n",
              "  }\n",
              "  return element;\n",
              "}\n",
              "\n",
              "// Max number of bytes which will be uploaded at a time.\n",
              "const MAX_PAYLOAD_SIZE = 100 * 1024;\n",
              "\n",
              "function _uploadFiles(inputId, outputId) {\n",
              "  const steps = uploadFilesStep(inputId, outputId);\n",
              "  const outputElement = document.getElementById(outputId);\n",
              "  // Cache steps on the outputElement to make it available for the next call\n",
              "  // to uploadFilesContinue from Python.\n",
              "  outputElement.steps = steps;\n",
              "\n",
              "  return _uploadFilesContinue(outputId);\n",
              "}\n",
              "\n",
              "// This is roughly an async generator (not supported in the browser yet),\n",
              "// where there are multiple asynchronous steps and the Python side is going\n",
              "// to poll for completion of each step.\n",
              "// This uses a Promise to block the python side on completion of each step,\n",
              "// then passes the result of the previous step as the input to the next step.\n",
              "function _uploadFilesContinue(outputId) {\n",
              "  const outputElement = document.getElementById(outputId);\n",
              "  const steps = outputElement.steps;\n",
              "\n",
              "  const next = steps.next(outputElement.lastPromiseValue);\n",
              "  return Promise.resolve(next.value.promise).then((value) => {\n",
              "    // Cache the last promise value to make it available to the next\n",
              "    // step of the generator.\n",
              "    outputElement.lastPromiseValue = value;\n",
              "    return next.value.response;\n",
              "  });\n",
              "}\n",
              "\n",
              "/**\n",
              " * Generator function which is called between each async step of the upload\n",
              " * process.\n",
              " * @param {string} inputId Element ID of the input file picker element.\n",
              " * @param {string} outputId Element ID of the output display.\n",
              " * @return {!Iterable<!Object>} Iterable of next steps.\n",
              " */\n",
              "function* uploadFilesStep(inputId, outputId) {\n",
              "  const inputElement = document.getElementById(inputId);\n",
              "  inputElement.disabled = false;\n",
              "\n",
              "  const outputElement = document.getElementById(outputId);\n",
              "  outputElement.innerHTML = '';\n",
              "\n",
              "  const pickedPromise = new Promise((resolve) => {\n",
              "    inputElement.addEventListener('change', (e) => {\n",
              "      resolve(e.target.files);\n",
              "    });\n",
              "  });\n",
              "\n",
              "  const cancel = document.createElement('button');\n",
              "  inputElement.parentElement.appendChild(cancel);\n",
              "  cancel.textContent = 'Cancel upload';\n",
              "  const cancelPromise = new Promise((resolve) => {\n",
              "    cancel.onclick = () => {\n",
              "      resolve(null);\n",
              "    };\n",
              "  });\n",
              "\n",
              "  // Wait for the user to pick the files.\n",
              "  const files = yield {\n",
              "    promise: Promise.race([pickedPromise, cancelPromise]),\n",
              "    response: {\n",
              "      action: 'starting',\n",
              "    }\n",
              "  };\n",
              "\n",
              "  cancel.remove();\n",
              "\n",
              "  // Disable the input element since further picks are not allowed.\n",
              "  inputElement.disabled = true;\n",
              "\n",
              "  if (!files) {\n",
              "    return {\n",
              "      response: {\n",
              "        action: 'complete',\n",
              "      }\n",
              "    };\n",
              "  }\n",
              "\n",
              "  for (const file of files) {\n",
              "    const li = document.createElement('li');\n",
              "    li.append(span(file.name, {fontWeight: 'bold'}));\n",
              "    li.append(span(\n",
              "        `(${file.type || 'n/a'}) - ${file.size} bytes, ` +\n",
              "        `last modified: ${\n",
              "            file.lastModifiedDate ? file.lastModifiedDate.toLocaleDateString() :\n",
              "                                    'n/a'} - `));\n",
              "    const percent = span('0% done');\n",
              "    li.appendChild(percent);\n",
              "\n",
              "    outputElement.appendChild(li);\n",
              "\n",
              "    const fileDataPromise = new Promise((resolve) => {\n",
              "      const reader = new FileReader();\n",
              "      reader.onload = (e) => {\n",
              "        resolve(e.target.result);\n",
              "      };\n",
              "      reader.readAsArrayBuffer(file);\n",
              "    });\n",
              "    // Wait for the data to be ready.\n",
              "    let fileData = yield {\n",
              "      promise: fileDataPromise,\n",
              "      response: {\n",
              "        action: 'continue',\n",
              "      }\n",
              "    };\n",
              "\n",
              "    // Use a chunked sending to avoid message size limits. See b/62115660.\n",
              "    let position = 0;\n",
              "    do {\n",
              "      const length = Math.min(fileData.byteLength - position, MAX_PAYLOAD_SIZE);\n",
              "      const chunk = new Uint8Array(fileData, position, length);\n",
              "      position += length;\n",
              "\n",
              "      const base64 = btoa(String.fromCharCode.apply(null, chunk));\n",
              "      yield {\n",
              "        response: {\n",
              "          action: 'append',\n",
              "          file: file.name,\n",
              "          data: base64,\n",
              "        },\n",
              "      };\n",
              "\n",
              "      let percentDone = fileData.byteLength === 0 ?\n",
              "          100 :\n",
              "          Math.round((position / fileData.byteLength) * 100);\n",
              "      percent.textContent = `${percentDone}% done`;\n",
              "\n",
              "    } while (position < fileData.byteLength);\n",
              "  }\n",
              "\n",
              "  // All done.\n",
              "  yield {\n",
              "    response: {\n",
              "      action: 'complete',\n",
              "    }\n",
              "  };\n",
              "}\n",
              "\n",
              "scope.google = scope.google || {};\n",
              "scope.google.colab = scope.google.colab || {};\n",
              "scope.google.colab._files = {\n",
              "  _uploadFiles,\n",
              "  _uploadFilesContinue,\n",
              "};\n",
              "})(self);\n",
              "</script> "
            ]
          },
          "metadata": {}
        },
        {
          "output_type": "stream",
          "name": "stdout",
          "text": [
            "Saving kaggle.json to kaggle.json\n"
          ]
        }
      ]
    },
    {
      "cell_type": "code",
      "source": [
        "# Create kaggle directory\n",
        "!mkdir ~/.kaggle"
      ],
      "metadata": {
        "id": "68kh-oeKBKav"
      },
      "execution_count": 9,
      "outputs": []
    },
    {
      "cell_type": "code",
      "source": [
        "# Copy kaggle json file to the created directory\n",
        "! cp kaggle.json ~/.kaggle/"
      ],
      "metadata": {
        "id": "hgJ1OyaZDPCd"
      },
      "execution_count": 10,
      "outputs": []
    },
    {
      "cell_type": "code",
      "source": [
        "# Change permission of the file\n",
        "!chmod 600 ~/.kaggle/kaggle.json"
      ],
      "metadata": {
        "id": "hxb81dm9Dips"
      },
      "execution_count": 11,
      "outputs": []
    },
    {
      "cell_type": "code",
      "source": [
        "# Check if everything is correct\n",
        "!kaggle datasets list"
      ],
      "metadata": {
        "colab": {
          "base_uri": "https://localhost:8080/"
        },
        "id": "_zLhw1e1DwgS",
        "outputId": "d26cc58b-6379-483b-f6d4-3edb545126df"
      },
      "execution_count": 12,
      "outputs": [
        {
          "output_type": "stream",
          "name": "stdout",
          "text": [
            "ref                                                                   title                                               size  lastUpdated          downloadCount  voteCount  usabilityRating  \n",
            "--------------------------------------------------------------------  -------------------------------------------------  -----  -------------------  -------------  ---------  ---------------  \n",
            "nelgiriyewithana/countries-of-the-world-2023                          Global Country Information Dataset 2023             23KB  2023-07-08 20:37:33          10788        421  1.0              \n",
            "nelgiriyewithana/global-youtube-statistics-2023                       Global YouTube Statistics 2023                      60KB  2023-07-28 15:36:38           2923        117  1.0              \n",
            "joebeachcapital/global-earth-temperatures                             Global Earth Temperatures                           33KB  2023-08-09 06:21:51            607         28  1.0              \n",
            "joebeachcapital/top-500-hollywood-movies-of-all-time                  Top 500 Hollywood Movies of All Time                33KB  2023-08-03 01:08:52            627         25  1.0              \n",
            "arnavsmayan/netflix-userbase-dataset                                  Netflix Userbase Dataset                            25KB  2023-07-04 07:38:41          12176        216  1.0              \n",
            "joebeachcapital/fast-food                                             Fast Food Nutrition                                 20KB  2023-08-09 01:35:51            591         27  1.0              \n",
            "anshtanwar/global-data-on-sustainable-energy                          Global Data on Sustainable Energy (2000-2020)      175KB  2023-08-07 11:58:00           1802         36  1.0              \n",
            "devrimtuncr/electric-vehicle-population-data                          Electric Vehicle Population Data                     5MB  2023-08-09 13:51:20            297         24  1.0              \n",
            "juhibhojani/house-price                                               House Price                                          7MB  2023-08-02 16:51:21           1487         53  0.9411765        \n",
            "alphiree/cardiovascular-diseases-risk-prediction-dataset              Cardiovascular Diseases Risk Prediction Dataset      5MB  2023-07-03 12:12:19           8970        296  1.0              \n",
            "joebeachcapital/marvel-movies                                         Marvel Superhero Movies                              2KB  2023-08-02 23:31:11            409         24  1.0              \n",
            "sivapriyagarladinne/telangana-post-monsoon-ground-water-quality-data  Water Quality Data [Telangana Groundwater]          79KB  2023-07-28 17:25:06            568         27  1.0              \n",
            "lasaljaywardena/age-dataset-2023                                      The Age Dataset 2023 - Global and General Purpose   39MB  2023-08-04 11:56:01            694         31  1.0              \n",
            "joebeachcapital/top-2000-companies-globally                           Top 2000 Companies Globally                         38KB  2023-07-31 01:06:07            606         27  1.0              \n",
            "devrimtuncr/continental-deaths-1950-2021                              Death per year by continent (1950-2021)              3KB  2023-08-09 10:55:30            358         30  1.0              \n",
            "joebeachcapital/covid-19-india-statewise-2023                         Covid-19 India Statewise 2023                        1KB  2023-08-07 00:41:39            677         23  1.0              \n",
            "joebeachcapital/gpa-and-iq                                            GPA & IQ                                            795B  2023-08-09 05:05:39            270         21  1.0              \n",
            "georgeggcoco/closeness-of-music-genres                                Spotify's top 3000 music genres - Network           17MB  2023-08-04 13:27:45            302         23  1.0              \n",
            "joebeachcapital/life-expectancy                                       Life Expectancy                                    149KB  2023-08-09 02:21:33            326         22  1.0              \n",
            "devrimtuncr/planets-nasa-2023                                         Planets NASA 2023                                   59KB  2023-08-07 10:55:46            314         33  1.0              \n"
          ]
        }
      ]
    },
    {
      "cell_type": "code",
      "source": [
        "# Downloading the Dataset from Kaggle\n",
        "!kaggle datasets download -d muhammadshahidazeem/customer-churn-dataset"
      ],
      "metadata": {
        "colab": {
          "base_uri": "https://localhost:8080/"
        },
        "id": "5ebi7alJ-sru",
        "outputId": "79cf843f-330c-444a-f85c-cadd25e6bb9d"
      },
      "execution_count": 13,
      "outputs": [
        {
          "output_type": "stream",
          "name": "stdout",
          "text": [
            "Downloading customer-churn-dataset.zip to /content\n",
            "\r  0% 0.00/6.66M [00:00<?, ?B/s]\n",
            "\r100% 6.66M/6.66M [00:00<00:00, 73.3MB/s]\n"
          ]
        }
      ]
    },
    {
      "cell_type": "code",
      "source": [
        "# Unzipping content to another folder\n",
        "!unzip /content/customer-churn-dataset.zip -d customer-churn"
      ],
      "metadata": {
        "colab": {
          "base_uri": "https://localhost:8080/"
        },
        "id": "Ps8yicsWHzmQ",
        "outputId": "af5852af-6af2-4fbe-df2a-4974b1730236"
      },
      "execution_count": 14,
      "outputs": [
        {
          "output_type": "stream",
          "name": "stdout",
          "text": [
            "Archive:  /content/customer-churn-dataset.zip\n",
            "  inflating: customer-churn/customer_churn_dataset-testing-master.csv  \n",
            "  inflating: customer-churn/customer_churn_dataset-training-master.csv  \n"
          ]
        }
      ]
    },
    {
      "cell_type": "markdown",
      "source": [
        "# Exploratory Data Analysis"
      ],
      "metadata": {
        "id": "UK6kCWK-Jid0"
      }
    },
    {
      "cell_type": "code",
      "source": [
        "# Create Spark session\n",
        "FILEPATH = \"/content/customer-churn/customer_churn_dataset-training-master.csv\"\n",
        "sp = SparkSession.builder.master(\"local[1]\")\\\n",
        "          .appName(\"Customer-Churn\")\\\n",
        "          .getOrCreate()\n",
        "# Read csv file (if another file  type, search PySpark documentation)\n",
        "df = sp.read.options(header=True).csv(FILEPATH)"
      ],
      "metadata": {
        "id": "bUpG9nAaJlln"
      },
      "execution_count": null,
      "outputs": []
    },
    {
      "cell_type": "code",
      "source": [
        "# Show 10 first rows of dataframe\n",
        "df.show(10)"
      ],
      "metadata": {
        "colab": {
          "base_uri": "https://localhost:8080/"
        },
        "id": "uUnG0vc8Ny7g",
        "outputId": "aca22ef3-ab72-4cb6-9a25-08dab946084c"
      },
      "execution_count": null,
      "outputs": [
        {
          "output_type": "stream",
          "name": "stdout",
          "text": [
            "+----------+---+------+------+---------------+-------------+-------------+-----------------+---------------+-----------+----------------+-----+\n",
            "|CustomerID|Age|Gender|Tenure|Usage Frequency|Support Calls|Payment Delay|Subscription Type|Contract Length|Total Spend|Last Interaction|Churn|\n",
            "+----------+---+------+------+---------------+-------------+-------------+-----------------+---------------+-----------+----------------+-----+\n",
            "|         2| 30|Female|    39|             14|            5|           18|         Standard|         Annual|        932|              17|    1|\n",
            "|         3| 65|Female|    49|              1|           10|            8|            Basic|        Monthly|        557|               6|    1|\n",
            "|         4| 55|Female|    14|              4|            6|           18|            Basic|      Quarterly|        185|               3|    1|\n",
            "|         5| 58|  Male|    38|             21|            7|            7|         Standard|        Monthly|        396|              29|    1|\n",
            "|         6| 23|  Male|    32|             20|            5|            8|            Basic|        Monthly|        617|              20|    1|\n",
            "|         8| 51|  Male|    33|             25|            9|           26|          Premium|         Annual|        129|               8|    1|\n",
            "|         9| 58|Female|    49|             12|            3|           16|         Standard|      Quarterly|        821|              24|    1|\n",
            "|        10| 55|Female|    37|              8|            4|           15|          Premium|         Annual|        445|              30|    1|\n",
            "|        11| 39|  Male|    12|              5|            7|            4|         Standard|      Quarterly|        969|              13|    1|\n",
            "|        12| 64|Female|     3|             25|            2|           11|         Standard|      Quarterly|        415|              29|    1|\n",
            "+----------+---+------+------+---------------+-------------+-------------+-----------------+---------------+-----------+----------------+-----+\n",
            "only showing top 10 rows\n",
            "\n"
          ]
        }
      ]
    },
    {
      "cell_type": "code",
      "source": [
        "df = df.dropna(how=\"any\")"
      ],
      "metadata": {
        "id": "juHt2vDgeut7"
      },
      "execution_count": null,
      "outputs": []
    },
    {
      "cell_type": "code",
      "source": [
        "# Showing dataset Schema\n",
        "df.printSchema()"
      ],
      "metadata": {
        "colab": {
          "base_uri": "https://localhost:8080/"
        },
        "id": "Kguq5x4cO9ta",
        "outputId": "fc225930-83ab-4e4c-ad23-d00fa5e72ddd"
      },
      "execution_count": null,
      "outputs": [
        {
          "output_type": "stream",
          "name": "stdout",
          "text": [
            "root\n",
            " |-- CustomerID: string (nullable = true)\n",
            " |-- Age: string (nullable = true)\n",
            " |-- Gender: string (nullable = true)\n",
            " |-- Tenure: string (nullable = true)\n",
            " |-- Usage Frequency: string (nullable = true)\n",
            " |-- Support Calls: string (nullable = true)\n",
            " |-- Payment Delay: string (nullable = true)\n",
            " |-- Subscription Type: string (nullable = true)\n",
            " |-- Contract Length: string (nullable = true)\n",
            " |-- Total Spend: string (nullable = true)\n",
            " |-- Last Interaction: string (nullable = true)\n",
            " |-- Churn: string (nullable = true)\n",
            "\n"
          ]
        }
      ]
    },
    {
      "cell_type": "code",
      "source": [
        "# Count rows and columns\n",
        "print(f'Number of rows: {df.count()}')\n",
        "print(f'Number of columns: {len(df.columns)}')"
      ],
      "metadata": {
        "colab": {
          "base_uri": "https://localhost:8080/"
        },
        "id": "4uPJFaupcxWD",
        "outputId": "0ce7c600-e1c8-4a6c-87ef-f69193d80ebe"
      },
      "execution_count": null,
      "outputs": [
        {
          "output_type": "stream",
          "name": "stdout",
          "text": [
            "Number of rows: 440832\n",
            "Number of columns: 12\n"
          ]
        }
      ]
    },
    {
      "cell_type": "code",
      "source": [
        "# Drop duplicates by Customer ID\n",
        "df = df.dropDuplicates(['CustomerID'])"
      ],
      "metadata": {
        "id": "KWvGndLGe9hZ"
      },
      "execution_count": null,
      "outputs": []
    },
    {
      "cell_type": "code",
      "source": [
        "# Changing column type\n",
        "from pyspark.sql.types import (\n",
        "    StringType, BooleanType, IntegerType, FloatType, DoubleType\n",
        ")\n",
        "from pyspark.sql.functions import col\n",
        "\n",
        "df = df.withColumn(\"Age\", col(\"Age\").cast(IntegerType()))\\\n",
        ".withColumn(\"Tenure\", col(\"Tenure\").cast(IntegerType()))\\\n",
        ".withColumn(\"Usage Frequency\", col(\"Usage Frequency\").cast(IntegerType()))\\\n",
        ".withColumn(\"Support Calls\", col(\"Support Calls\").cast(IntegerType()))\\\n",
        ".withColumn(\"Payment Delay\", col(\"Payment Delay\").cast(IntegerType()))\\\n",
        ".withColumn(\"Total Spend\", col(\"Total Spend\").cast(FloatType()))\\\n",
        ".withColumn(\"Last Interaction\", col(\"Last Interaction\").cast(IntegerType()))\\\n",
        ".withColumn(\"Churn\", col(\"Churn\").cast(IntegerType()))\\\n",
        ".drop(col(\"CustomerID\"))\n",
        "\n",
        "df.printSchema()"
      ],
      "metadata": {
        "id": "DUiHvbXKQXXK",
        "colab": {
          "base_uri": "https://localhost:8080/"
        },
        "outputId": "126f643d-e889-4440-ee30-1cb14d174b15"
      },
      "execution_count": null,
      "outputs": [
        {
          "output_type": "stream",
          "name": "stdout",
          "text": [
            "root\n",
            " |-- Age: integer (nullable = true)\n",
            " |-- Gender: string (nullable = true)\n",
            " |-- Tenure: integer (nullable = true)\n",
            " |-- Usage Frequency: integer (nullable = true)\n",
            " |-- Support Calls: integer (nullable = true)\n",
            " |-- Payment Delay: integer (nullable = true)\n",
            " |-- Subscription Type: string (nullable = true)\n",
            " |-- Contract Length: string (nullable = true)\n",
            " |-- Total Spend: float (nullable = true)\n",
            " |-- Last Interaction: integer (nullable = true)\n",
            " |-- Churn: integer (nullable = true)\n",
            "\n"
          ]
        }
      ]
    },
    {
      "cell_type": "code",
      "source": [
        "# Changing column name to replace space with _\n",
        "for column in df.columns:\n",
        "    df = df.withColumnRenamed(column, column if ' ' not in column else column.replace(' ','_'))\n",
        "df.printSchema()"
      ],
      "metadata": {
        "colab": {
          "base_uri": "https://localhost:8080/"
        },
        "id": "saJ2XrR7CDPI",
        "outputId": "4492e964-f42d-4c4e-b38a-42539f205888"
      },
      "execution_count": null,
      "outputs": [
        {
          "output_type": "stream",
          "name": "stdout",
          "text": [
            "root\n",
            " |-- Age: integer (nullable = true)\n",
            " |-- Gender: string (nullable = true)\n",
            " |-- Tenure: integer (nullable = true)\n",
            " |-- Usage_Frequency: integer (nullable = true)\n",
            " |-- Support_Calls: integer (nullable = true)\n",
            " |-- Payment_Delay: integer (nullable = true)\n",
            " |-- Subscription_Type: string (nullable = true)\n",
            " |-- Contract_Length: string (nullable = true)\n",
            " |-- Total_Spend: float (nullable = true)\n",
            " |-- Last_Interaction: integer (nullable = true)\n",
            " |-- Churn: integer (nullable = true)\n",
            "\n"
          ]
        }
      ]
    },
    {
      "cell_type": "code",
      "source": [
        "import pyspark.sql.functions as F\n",
        "# Number of Churns and not Churns\n",
        "df.groupBy(\"Churn\") \\\n",
        "    .agg(\n",
        "        F.count(\"Churn\").alias(\"num_people\"), \\\n",
        "    )\\\n",
        "    .show()"
      ],
      "metadata": {
        "colab": {
          "base_uri": "https://localhost:8080/"
        },
        "id": "taA8MamZ2hKW",
        "outputId": "912997fc-f414-4a9e-d380-384b12cff432"
      },
      "execution_count": null,
      "outputs": [
        {
          "output_type": "stream",
          "name": "stdout",
          "text": [
            "+-----+----------+\n",
            "|Churn|num_people|\n",
            "+-----+----------+\n",
            "|    1|    249999|\n",
            "|    0|    190833|\n",
            "+-----+----------+\n",
            "\n"
          ]
        }
      ]
    },
    {
      "cell_type": "code",
      "source": [
        "from pyspark.sql.functions import struct\n",
        "def groupby_and_describe(df, group_col, stat_col):\n",
        "    \"\"\"\n",
        "    df has to be a pyspark dataframe\n",
        "    Compute statistics for the column in stat_col after grouping\n",
        "    by group_col.\n",
        "    if stat_col is IntegerType or FloatType, calculates quantiles, median, max,...\n",
        "    if stat_col is StringType, count occurence by each category\n",
        "    Take the resulting datafarame and nest the statistics columns.\n",
        "    \"\"\"\n",
        "    assert group_col != stat_col, f\"group_col and stat_col can't be the same, they are {group_col} and {stat_col}, respectively.\"\n",
        "\n",
        "    grouped = df.groupby(group_col)\n",
        "    column = df.schema[stat_col]\n",
        "    # if column is IntegerType or FloatType\n",
        "    if (isinstance(column.dataType, IntegerType) or isinstance(column.dataType, FloatType)) and (column.name != group_col):\n",
        "        # group and create statistics\n",
        "        output = grouped.agg(\n",
        "            F.mean(stat_col).alias(\"mean\"),\n",
        "            F.stddev(stat_col).alias(\"std\"),\n",
        "            F.min(stat_col).alias(\"min\"),\n",
        "            F.percentile_approx(stat_col, 0.25).alias(\"25%\"),\n",
        "            F.percentile_approx(stat_col, 0.50).alias(\"50%\"),\n",
        "            F.percentile_approx(stat_col, 0.75).alias(\"75%\"),\n",
        "            F.max(stat_col).alias(\"max\"),\n",
        "        )\n",
        "        # structure the dataframe\n",
        "        output = output.select(\n",
        "            group_col,\n",
        "            struct(\"mean\", \"std\", \"min\", \"25%\", \"50%\", \"75%\", \"max\")\\\n",
        "            .alias(stat_col)\n",
        "        )\n",
        "        return output\n",
        "    # if the column is StringType\n",
        "    elif isinstance(column.dataType, StringType) and (column.name != group_col):\n",
        "        # group by group_col and pivot the stat_col and count occurences\n",
        "        output = df.groupby(group_col).pivot(stat_col).count()\n",
        "        # change columns from long to IntegerType\n",
        "        cols2change = [col for col in output.columns if col != group_col]\n",
        "        for column in cols2change:\n",
        "            output = output.withColumn(column, col(column).cast(IntegerType()))\n",
        "        # Structure the dataframe\n",
        "        output = output.select(\n",
        "            group_col,\n",
        "            struct(cols2change)\\\n",
        "            .alias(stat_col)\n",
        "        )\n",
        "        return output\n",
        "\n",
        "# Join statistics for each column by Churn value keeping nested columns\n",
        "joined = None\n",
        "aggregate_cols = [col for col in df.columns if col != \"Churn\"]\n",
        "for column in aggregate_cols:\n",
        "    print(f'Variable: {column}')\n",
        "    grouped_temp = groupby_and_describe(\n",
        "        df=df,\n",
        "        group_col=\"Churn\",\n",
        "        stat_col=column\n",
        "        )\n",
        "    if not joined:\n",
        "        joined = grouped_temp\n",
        "    else:\n",
        "        joined = joined.join(grouped_temp, on=[\"Churn\"])\n",
        "\n",
        "joined.printSchema()"
      ],
      "metadata": {
        "colab": {
          "base_uri": "https://localhost:8080/"
        },
        "id": "xYotM71cqxD-",
        "outputId": "123d45ff-a597-478e-af5a-e7b21b2dddc8"
      },
      "execution_count": null,
      "outputs": [
        {
          "output_type": "stream",
          "name": "stdout",
          "text": [
            "Variable: Age\n",
            "Variable: Gender\n",
            "Variable: Tenure\n",
            "Variable: Usage_Frequency\n",
            "Variable: Support_Calls\n",
            "Variable: Payment_Delay\n",
            "Variable: Subscription_Type\n",
            "Variable: Contract_Length\n",
            "Variable: Total_Spend\n",
            "Variable: Last_Interaction\n",
            "root\n",
            " |-- Churn: integer (nullable = true)\n",
            " |-- Age: struct (nullable = false)\n",
            " |    |-- mean: double (nullable = true)\n",
            " |    |-- std: double (nullable = true)\n",
            " |    |-- min: integer (nullable = true)\n",
            " |    |-- 25%: integer (nullable = true)\n",
            " |    |-- 50%: integer (nullable = true)\n",
            " |    |-- 75%: integer (nullable = true)\n",
            " |    |-- max: integer (nullable = true)\n",
            " |-- Gender: struct (nullable = false)\n",
            " |    |-- Female: integer (nullable = true)\n",
            " |    |-- Male: integer (nullable = true)\n",
            " |-- Tenure: struct (nullable = false)\n",
            " |    |-- mean: double (nullable = true)\n",
            " |    |-- std: double (nullable = true)\n",
            " |    |-- min: integer (nullable = true)\n",
            " |    |-- 25%: integer (nullable = true)\n",
            " |    |-- 50%: integer (nullable = true)\n",
            " |    |-- 75%: integer (nullable = true)\n",
            " |    |-- max: integer (nullable = true)\n",
            " |-- Usage_Frequency: struct (nullable = false)\n",
            " |    |-- mean: double (nullable = true)\n",
            " |    |-- std: double (nullable = true)\n",
            " |    |-- min: integer (nullable = true)\n",
            " |    |-- 25%: integer (nullable = true)\n",
            " |    |-- 50%: integer (nullable = true)\n",
            " |    |-- 75%: integer (nullable = true)\n",
            " |    |-- max: integer (nullable = true)\n",
            " |-- Support_Calls: struct (nullable = false)\n",
            " |    |-- mean: double (nullable = true)\n",
            " |    |-- std: double (nullable = true)\n",
            " |    |-- min: integer (nullable = true)\n",
            " |    |-- 25%: integer (nullable = true)\n",
            " |    |-- 50%: integer (nullable = true)\n",
            " |    |-- 75%: integer (nullable = true)\n",
            " |    |-- max: integer (nullable = true)\n",
            " |-- Payment_Delay: struct (nullable = false)\n",
            " |    |-- mean: double (nullable = true)\n",
            " |    |-- std: double (nullable = true)\n",
            " |    |-- min: integer (nullable = true)\n",
            " |    |-- 25%: integer (nullable = true)\n",
            " |    |-- 50%: integer (nullable = true)\n",
            " |    |-- 75%: integer (nullable = true)\n",
            " |    |-- max: integer (nullable = true)\n",
            " |-- Subscription_Type: struct (nullable = false)\n",
            " |    |-- Basic: integer (nullable = true)\n",
            " |    |-- Premium: integer (nullable = true)\n",
            " |    |-- Standard: integer (nullable = true)\n",
            " |-- Contract_Length: struct (nullable = false)\n",
            " |    |-- Annual: integer (nullable = true)\n",
            " |    |-- Monthly: integer (nullable = true)\n",
            " |    |-- Quarterly: integer (nullable = true)\n",
            " |-- Total_Spend: struct (nullable = false)\n",
            " |    |-- mean: double (nullable = true)\n",
            " |    |-- std: double (nullable = true)\n",
            " |    |-- min: float (nullable = true)\n",
            " |    |-- 25%: float (nullable = true)\n",
            " |    |-- 50%: float (nullable = true)\n",
            " |    |-- 75%: float (nullable = true)\n",
            " |    |-- max: float (nullable = true)\n",
            " |-- Last_Interaction: struct (nullable = false)\n",
            " |    |-- mean: double (nullable = true)\n",
            " |    |-- std: double (nullable = true)\n",
            " |    |-- min: integer (nullable = true)\n",
            " |    |-- 25%: integer (nullable = true)\n",
            " |    |-- 50%: integer (nullable = true)\n",
            " |    |-- 75%: integer (nullable = true)\n",
            " |    |-- max: integer (nullable = true)\n",
            "\n"
          ]
        }
      ]
    },
    {
      "cell_type": "code",
      "source": [
        "import plotly.express as px\n",
        "import plotly.graph_objects as go\n",
        "boxplots = {}\n",
        "\n",
        "for column in df.schema:\n",
        "    print(column.name)\n",
        "    temp = df.select(\"Churn\", column.name)\n",
        "    if (isinstance(column.dataType, IntegerType) or isinstance(column.dataType, FloatType)) and (column.name != \"Churn\"):\n",
        "        fig = px.box(\n",
        "            temp.toPandas(),\n",
        "            x=\"Churn\", y=column.name, color=\"Churn\",\n",
        "            title=f\"{column.name} x Churn\"\n",
        "        )\\\n",
        "        .update_layout(\n",
        "            yaxis_title=None, xaxis_title=None,\n",
        "            title_x=0.5, title_font_size=30\n",
        "        )\n",
        "        boxplots[column.name] = fig\n",
        "    elif (isinstance(column.dataType, StringType) and (column.name != \"Churn\")):\n",
        "        # create bar chart with plotly\n",
        "        grouped_test = df.select(\"Churn\", column.name).groupby(\"Churn\").pivot(column.name).count().withColumn(\"Churn\", F.col(\"Churn\").cast(\"string\"))\n",
        "        y_axis = [item for item in grouped_test.columns if item != \"Churn\"]\n",
        "        fig = px.histogram(\n",
        "            grouped_test.toPandas(),\n",
        "            x=\"Churn\",\n",
        "            y=y_axis,\n",
        "            barnorm=\"percent\",\n",
        "            text_auto='.2f'\n",
        "        ).update_layout(\n",
        "            yaxis_title=None, xaxis_title=None, title=f\"Churn x {column.name} (%)\",\n",
        "            title_x=0.5, title_font_size=30\n",
        "        )\n",
        "        boxplots[column.name] = fig\n",
        "\n",
        "\n",
        "import os\n",
        "from google.colab import files\n",
        "\n",
        "if not os.path.isdir(\"charts\"):\n",
        "    os.mkdir(\"charts\")\n",
        "\n",
        "for key, chart in boxplots.items():\n",
        "    chart.write_html(f\"charts/boxplot_{key}_x_Churn.html\")\n",
        "\n",
        "# for downloading files one by one\n",
        "# [files.download(\"charts/\" + item) for item in os.listdir(\"charts\")]\n",
        "\n",
        "# for creating a zip file with the charts and downloading it\n",
        "!zip -r charts.zip charts/\n",
        "files.download('charts.zip')"
      ],
      "metadata": {
        "colab": {
          "base_uri": "https://localhost:8080/",
          "height": 399
        },
        "id": "3k3mNoloi8Fq",
        "outputId": "f00cfbb0-9e77-47f1-fe79-9d7eda3b6f09"
      },
      "execution_count": null,
      "outputs": [
        {
          "output_type": "stream",
          "name": "stdout",
          "text": [
            "Age\n",
            "Gender\n",
            "Tenure\n",
            "Usage_Frequency\n",
            "Support_Calls\n",
            "Payment_Delay\n",
            "Subscription_Type\n",
            "Contract_Length\n",
            "Total_Spend\n",
            "Last_Interaction\n",
            "Churn\n",
            "  adding: charts/ (stored 0%)\n",
            "  adding: charts/boxplot_Age_x_Churn.html (deflated 74%)\n",
            "  adding: charts/boxplot_Contract_Length_x_Churn.html (deflated 70%)\n",
            "  adding: charts/boxplot_Usage_Frequency_x_Churn.html (deflated 74%)\n",
            "  adding: charts/boxplot_Total_Spend_x_Churn.html (deflated 76%)\n",
            "  adding: charts/boxplot_Subscription_Type_x_Churn.html (deflated 70%)\n",
            "  adding: charts/boxplot_Gender_x_Churn.html (deflated 70%)\n",
            "  adding: charts/boxplot_Last_Interaction_x_Churn.html (deflated 74%)\n",
            "  adding: charts/boxplot_Tenure_x_Churn.html (deflated 74%)\n",
            "  adding: charts/boxplot_Support_Calls_x_Churn.html (deflated 76%)\n",
            "  adding: charts/boxplot_Payment_Delay_x_Churn.html (deflated 74%)\n"
          ]
        },
        {
          "output_type": "display_data",
          "data": {
            "text/plain": [
              "<IPython.core.display.Javascript object>"
            ],
            "application/javascript": [
              "\n",
              "    async function download(id, filename, size) {\n",
              "      if (!google.colab.kernel.accessAllowed) {\n",
              "        return;\n",
              "      }\n",
              "      const div = document.createElement('div');\n",
              "      const label = document.createElement('label');\n",
              "      label.textContent = `Downloading \"${filename}\": `;\n",
              "      div.appendChild(label);\n",
              "      const progress = document.createElement('progress');\n",
              "      progress.max = size;\n",
              "      div.appendChild(progress);\n",
              "      document.body.appendChild(div);\n",
              "\n",
              "      const buffers = [];\n",
              "      let downloaded = 0;\n",
              "\n",
              "      const channel = await google.colab.kernel.comms.open(id);\n",
              "      // Send a message to notify the kernel that we're ready.\n",
              "      channel.send({})\n",
              "\n",
              "      for await (const message of channel.messages) {\n",
              "        // Send a message to notify the kernel that we're ready.\n",
              "        channel.send({})\n",
              "        if (message.buffers) {\n",
              "          for (const buffer of message.buffers) {\n",
              "            buffers.push(buffer);\n",
              "            downloaded += buffer.byteLength;\n",
              "            progress.value = downloaded;\n",
              "          }\n",
              "        }\n",
              "      }\n",
              "      const blob = new Blob(buffers, {type: 'application/binary'});\n",
              "      const a = document.createElement('a');\n",
              "      a.href = window.URL.createObjectURL(blob);\n",
              "      a.download = filename;\n",
              "      div.appendChild(a);\n",
              "      a.click();\n",
              "      div.remove();\n",
              "    }\n",
              "  "
            ]
          },
          "metadata": {}
        },
        {
          "output_type": "display_data",
          "data": {
            "text/plain": [
              "<IPython.core.display.Javascript object>"
            ],
            "application/javascript": [
              "download(\"download_d29d4653-c8fe-4692-aee5-f909a77f6150\", \"charts.zip\", 14320691)"
            ]
          },
          "metadata": {}
        }
      ]
    }
  ]
}