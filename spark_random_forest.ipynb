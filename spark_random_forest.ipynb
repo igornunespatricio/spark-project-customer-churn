{
  "nbformat": 4,
  "nbformat_minor": 0,
  "metadata": {
    "colab": {
      "provenance": [],
      "collapsed_sections": [
        "XQ6EdkxD2SEQ",
        "bdwRgwTy7LKT"
      ],
      "include_colab_link": true
    },
    "kernelspec": {
      "name": "python3",
      "display_name": "Python 3"
    },
    "language_info": {
      "name": "python"
    }
  },
  "cells": [
    {
      "cell_type": "markdown",
      "metadata": {
        "id": "view-in-github",
        "colab_type": "text"
      },
      "source": [
        "<a href=\"https://colab.research.google.com/github/igornunespatricio/spark-project-customer-churn/blob/main/spark_random_forest.ipynb\" target=\"_parent\"><img src=\"https://colab.research.google.com/assets/colab-badge.svg\" alt=\"Open In Colab\"/></a>"
      ]
    },
    {
      "cell_type": "markdown",
      "source": [
        "# Setting Up environment\n",
        "\n",
        "\n",
        "1.   Install Java\n",
        "2.   Install and unpack Spark and Hadoop Distributed File System (HDFS)\n",
        "3.   Define environment variables for Java and Spark\n",
        "4.   Install and initialize findspark\n",
        "5.   Check Spark installation\n",
        "\n"
      ],
      "metadata": {
        "id": "XQ6EdkxD2SEQ"
      }
    },
    {
      "cell_type": "code",
      "source": [
        "# Java installation\n",
        "!apt-get install openjdk-8-jdk-headless -qq > /dev/null"
      ],
      "metadata": {
        "id": "h3C6AHqF2WTy"
      },
      "execution_count": null,
      "outputs": []
    },
    {
      "cell_type": "code",
      "source": [
        "# Downloading Spark and Hadoop Distributed File System (HDFS) files\n",
        "!wget -q https://archive.apache.org/dist/spark/spark-3.1.2/spark-3.1.2-bin-hadoop2.7.tgz\n",
        "\n",
        "# Unpacking files\n",
        "!tar xf spark-3.1.2-bin-hadoop2.7.tgz"
      ],
      "metadata": {
        "id": "TmUYHd7F3IX-"
      },
      "execution_count": null,
      "outputs": []
    },
    {
      "cell_type": "code",
      "source": [
        "# Importing os library\n",
        "import os\n",
        "\n",
        "# Defining Java's system variable\n",
        "os.environ[\"JAVA_HOME\"] = \"/usr/lib/jvm/java-8-openjdk-amd64\"\n",
        "\n",
        "# Defining Spark's system variable\n",
        "os.environ[\"SPARK_HOME\"] = \"/content/spark-3.1.2-bin-hadoop2.7\""
      ],
      "metadata": {
        "id": "LMZMRkk73N0t"
      },
      "execution_count": null,
      "outputs": []
    },
    {
      "cell_type": "code",
      "source": [
        "# Necessary to run PySpark\n",
        "!pip install -q findspark"
      ],
      "metadata": {
        "id": "rT6OI9tI5fwi"
      },
      "execution_count": null,
      "outputs": []
    },
    {
      "cell_type": "code",
      "source": [
        "# Importing installed finspark library\n",
        "import findspark\n",
        "\n",
        "# Initialize findspark\n",
        "findspark.init()"
      ],
      "metadata": {
        "id": "r3WwHA115pGh"
      },
      "execution_count": null,
      "outputs": []
    },
    {
      "cell_type": "code",
      "source": [
        "# # Importing package to initialize Spark session\n",
        "from pyspark.sql import SparkSession\n",
        "\n",
        "# # Imprting package to get number of cpu workers\n",
        "# import multiprocessing\n",
        "\n",
        "# cores = multiprocessing.cpu_count() # Count the number of cores in the computer\n",
        "# print(f\"Computer has {cores} cores\")\n",
        "\n",
        "# # Initialize spark session\n",
        "# sc = SparkSession.builder.master('local[*]').getOrCreate()\n",
        "\n",
        "# # Check if session was created\n",
        "# sc"
      ],
      "metadata": {
        "id": "fQ2a2f1v5xiJ"
      },
      "execution_count": null,
      "outputs": []
    },
    {
      "cell_type": "markdown",
      "source": [
        "If everything is right, the output of the last cell should per below:\n",
        "\n",
        "![successful spark instalation.png](data:image/png;base64,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)"
      ],
      "metadata": {
        "id": "u6XsYCJc6fvO"
      }
    },
    {
      "cell_type": "markdown",
      "source": [
        "# Downloading Kaggle Dataset\n",
        "\n",
        "In this case, a customer-churn dataset found [here](https://www.kaggle.com/datasets/muhammadshahidazeem/customer-churn-dataset) will be used. More info on the dataset in this link.\n",
        "\n",
        "1. Install Kaggle package\n",
        "2. Upload kaggle.json file with credentials (follow instructions [here](https://www.kaggle.com/discussions/general/74235))\n",
        "3. Create kaggle directory\n",
        "4. Upload kaggle.json file\n",
        "5. Change permition of kaggle json file\n",
        "6. Copy API command from the Kaggle dataset you want to use by clicking in $\\ \\vdots$  \n",
        " and then \"Copy API Command\". In this case, [this](https://www.kaggle.com/datasets/muhammadshahidazeem/customer-churn-dataset) dataset is being used\n",
        "7. Paste the copied command above in a new code cell and run\n",
        "8. After waiting the download to finish, under the /content diretory you should have the zipped file with the dataset in the /content directory\n",
        "9. Unzip the data into a directory of choice. In this case, \"customer-churn\""
      ],
      "metadata": {
        "id": "bdwRgwTy7LKT"
      }
    },
    {
      "cell_type": "code",
      "source": [
        "# Importing Kaggle package\n",
        "!pip install -q kaggle"
      ],
      "metadata": {
        "id": "Wf8PqZ0u-npT"
      },
      "execution_count": null,
      "outputs": []
    },
    {
      "cell_type": "code",
      "source": [
        "# Upload your Kaggles API secret KEY in file kaggle.json (link: https://www.kaggle.com/discussions/general/74235)\n",
        "from google.colab import files\n",
        "files.upload()"
      ],
      "metadata": {
        "colab": {
          "base_uri": "https://localhost:8080/",
          "height": 91
        },
        "id": "Ba9Js3wLAyaH",
        "outputId": "3bf637ec-50ce-42a1-8414-358673522aec"
      },
      "execution_count": null,
      "outputs": [
        {
          "output_type": "display_data",
          "data": {
            "text/plain": [
              "<IPython.core.display.HTML object>"
            ],
            "text/html": [
              "\n",
              "     <input type=\"file\" id=\"files-d2603d6d-baec-42bf-a0ce-26699d38f60f\" name=\"files[]\" multiple disabled\n",
              "        style=\"border:none\" />\n",
              "     <output id=\"result-d2603d6d-baec-42bf-a0ce-26699d38f60f\">\n",
              "      Upload widget is only available when the cell has been executed in the\n",
              "      current browser session. Please rerun this cell to enable.\n",
              "      </output>\n",
              "      <script>// Copyright 2017 Google LLC\n",
              "//\n",
              "// Licensed under the Apache License, Version 2.0 (the \"License\");\n",
              "// you may not use this file except in compliance with the License.\n",
              "// You may obtain a copy of the License at\n",
              "//\n",
              "//      http://www.apache.org/licenses/LICENSE-2.0\n",
              "//\n",
              "// Unless required by applicable law or agreed to in writing, software\n",
              "// distributed under the License is distributed on an \"AS IS\" BASIS,\n",
              "// WITHOUT WARRANTIES OR CONDITIONS OF ANY KIND, either express or implied.\n",
              "// See the License for the specific language governing permissions and\n",
              "// limitations under the License.\n",
              "\n",
              "/**\n",
              " * @fileoverview Helpers for google.colab Python module.\n",
              " */\n",
              "(function(scope) {\n",
              "function span(text, styleAttributes = {}) {\n",
              "  const element = document.createElement('span');\n",
              "  element.textContent = text;\n",
              "  for (const key of Object.keys(styleAttributes)) {\n",
              "    element.style[key] = styleAttributes[key];\n",
              "  }\n",
              "  return element;\n",
              "}\n",
              "\n",
              "// Max number of bytes which will be uploaded at a time.\n",
              "const MAX_PAYLOAD_SIZE = 100 * 1024;\n",
              "\n",
              "function _uploadFiles(inputId, outputId) {\n",
              "  const steps = uploadFilesStep(inputId, outputId);\n",
              "  const outputElement = document.getElementById(outputId);\n",
              "  // Cache steps on the outputElement to make it available for the next call\n",
              "  // to uploadFilesContinue from Python.\n",
              "  outputElement.steps = steps;\n",
              "\n",
              "  return _uploadFilesContinue(outputId);\n",
              "}\n",
              "\n",
              "// This is roughly an async generator (not supported in the browser yet),\n",
              "// where there are multiple asynchronous steps and the Python side is going\n",
              "// to poll for completion of each step.\n",
              "// This uses a Promise to block the python side on completion of each step,\n",
              "// then passes the result of the previous step as the input to the next step.\n",
              "function _uploadFilesContinue(outputId) {\n",
              "  const outputElement = document.getElementById(outputId);\n",
              "  const steps = outputElement.steps;\n",
              "\n",
              "  const next = steps.next(outputElement.lastPromiseValue);\n",
              "  return Promise.resolve(next.value.promise).then((value) => {\n",
              "    // Cache the last promise value to make it available to the next\n",
              "    // step of the generator.\n",
              "    outputElement.lastPromiseValue = value;\n",
              "    return next.value.response;\n",
              "  });\n",
              "}\n",
              "\n",
              "/**\n",
              " * Generator function which is called between each async step of the upload\n",
              " * process.\n",
              " * @param {string} inputId Element ID of the input file picker element.\n",
              " * @param {string} outputId Element ID of the output display.\n",
              " * @return {!Iterable<!Object>} Iterable of next steps.\n",
              " */\n",
              "function* uploadFilesStep(inputId, outputId) {\n",
              "  const inputElement = document.getElementById(inputId);\n",
              "  inputElement.disabled = false;\n",
              "\n",
              "  const outputElement = document.getElementById(outputId);\n",
              "  outputElement.innerHTML = '';\n",
              "\n",
              "  const pickedPromise = new Promise((resolve) => {\n",
              "    inputElement.addEventListener('change', (e) => {\n",
              "      resolve(e.target.files);\n",
              "    });\n",
              "  });\n",
              "\n",
              "  const cancel = document.createElement('button');\n",
              "  inputElement.parentElement.appendChild(cancel);\n",
              "  cancel.textContent = 'Cancel upload';\n",
              "  const cancelPromise = new Promise((resolve) => {\n",
              "    cancel.onclick = () => {\n",
              "      resolve(null);\n",
              "    };\n",
              "  });\n",
              "\n",
              "  // Wait for the user to pick the files.\n",
              "  const files = yield {\n",
              "    promise: Promise.race([pickedPromise, cancelPromise]),\n",
              "    response: {\n",
              "      action: 'starting',\n",
              "    }\n",
              "  };\n",
              "\n",
              "  cancel.remove();\n",
              "\n",
              "  // Disable the input element since further picks are not allowed.\n",
              "  inputElement.disabled = true;\n",
              "\n",
              "  if (!files) {\n",
              "    return {\n",
              "      response: {\n",
              "        action: 'complete',\n",
              "      }\n",
              "    };\n",
              "  }\n",
              "\n",
              "  for (const file of files) {\n",
              "    const li = document.createElement('li');\n",
              "    li.append(span(file.name, {fontWeight: 'bold'}));\n",
              "    li.append(span(\n",
              "        `(${file.type || 'n/a'}) - ${file.size} bytes, ` +\n",
              "        `last modified: ${\n",
              "            file.lastModifiedDate ? file.lastModifiedDate.toLocaleDateString() :\n",
              "                                    'n/a'} - `));\n",
              "    const percent = span('0% done');\n",
              "    li.appendChild(percent);\n",
              "\n",
              "    outputElement.appendChild(li);\n",
              "\n",
              "    const fileDataPromise = new Promise((resolve) => {\n",
              "      const reader = new FileReader();\n",
              "      reader.onload = (e) => {\n",
              "        resolve(e.target.result);\n",
              "      };\n",
              "      reader.readAsArrayBuffer(file);\n",
              "    });\n",
              "    // Wait for the data to be ready.\n",
              "    let fileData = yield {\n",
              "      promise: fileDataPromise,\n",
              "      response: {\n",
              "        action: 'continue',\n",
              "      }\n",
              "    };\n",
              "\n",
              "    // Use a chunked sending to avoid message size limits. See b/62115660.\n",
              "    let position = 0;\n",
              "    do {\n",
              "      const length = Math.min(fileData.byteLength - position, MAX_PAYLOAD_SIZE);\n",
              "      const chunk = new Uint8Array(fileData, position, length);\n",
              "      position += length;\n",
              "\n",
              "      const base64 = btoa(String.fromCharCode.apply(null, chunk));\n",
              "      yield {\n",
              "        response: {\n",
              "          action: 'append',\n",
              "          file: file.name,\n",
              "          data: base64,\n",
              "        },\n",
              "      };\n",
              "\n",
              "      let percentDone = fileData.byteLength === 0 ?\n",
              "          100 :\n",
              "          Math.round((position / fileData.byteLength) * 100);\n",
              "      percent.textContent = `${percentDone}% done`;\n",
              "\n",
              "    } while (position < fileData.byteLength);\n",
              "  }\n",
              "\n",
              "  // All done.\n",
              "  yield {\n",
              "    response: {\n",
              "      action: 'complete',\n",
              "    }\n",
              "  };\n",
              "}\n",
              "\n",
              "scope.google = scope.google || {};\n",
              "scope.google.colab = scope.google.colab || {};\n",
              "scope.google.colab._files = {\n",
              "  _uploadFiles,\n",
              "  _uploadFilesContinue,\n",
              "};\n",
              "})(self);\n",
              "</script> "
            ]
          },
          "metadata": {}
        },
        {
          "output_type": "stream",
          "name": "stdout",
          "text": [
            "Saving kaggle.json to kaggle.json\n"
          ]
        },
        {
          "output_type": "execute_result",
          "data": {
            "text/plain": [
              "{'kaggle.json': b'{\"username\":\"igornunespatricio\",\"key\":\"7f5d35c1c5bd7334abed0a8e12172c4c\"}'}"
            ]
          },
          "metadata": {},
          "execution_count": 8
        }
      ]
    },
    {
      "cell_type": "code",
      "source": [
        "# Create kaggle directory\n",
        "!mkdir ~/.kaggle"
      ],
      "metadata": {
        "id": "68kh-oeKBKav"
      },
      "execution_count": null,
      "outputs": []
    },
    {
      "cell_type": "code",
      "source": [
        "# Copy kaggle json file to the created directory\n",
        "! cp kaggle.json ~/.kaggle/"
      ],
      "metadata": {
        "id": "hgJ1OyaZDPCd"
      },
      "execution_count": null,
      "outputs": []
    },
    {
      "cell_type": "code",
      "source": [
        "# Change permission of the file\n",
        "!chmod 600 ~/.kaggle/kaggle.json"
      ],
      "metadata": {
        "id": "hxb81dm9Dips"
      },
      "execution_count": null,
      "outputs": []
    },
    {
      "cell_type": "code",
      "source": [
        "# Check if everything is correct\n",
        "!kaggle datasets list"
      ],
      "metadata": {
        "colab": {
          "base_uri": "https://localhost:8080/"
        },
        "id": "_zLhw1e1DwgS",
        "outputId": "233beb00-015a-41d9-9bd5-a8684f8ffd27"
      },
      "execution_count": null,
      "outputs": [
        {
          "output_type": "stream",
          "name": "stdout",
          "text": [
            "ref                                                         title                                             size  lastUpdated          downloadCount  voteCount  usabilityRating  \n",
            "----------------------------------------------------------  -----------------------------------------------  -----  -------------------  -------------  ---------  ---------------  \n",
            "nelgiriyewithana/countries-of-the-world-2023                Global Country Information Dataset 2023           23KB  2023-07-08 20:37:33           9873        379  1.0              \n",
            "juhibhojani/house-price                                     House Price                                        7MB  2023-08-02 16:51:21           1285         47  0.9411765        \n",
            "arnavsmayan/netflix-userbase-dataset                        Netflix Userbase Dataset                          25KB  2023-07-04 07:38:41          11415        199  1.0              \n",
            "alphiree/cardiovascular-diseases-risk-prediction-dataset    Cardiovascular Diseases Risk Prediction Dataset    5MB  2023-07-03 12:12:19           8562        288  1.0              \n",
            "nelgiriyewithana/global-youtube-statistics-2023             Global YouTube Statistics 2023                    60KB  2023-07-28 15:36:38           2233         90  1.0              \n",
            "abhijitdahatonde/zomato-restaurants-dataset                 Zomato Restaurants Dataset                       181KB  2023-07-20 13:11:17           1151         37  1.0              \n",
            "abhijitdahatonde/fifa-world-cup-all-dataset                 FIFA World Cup All Dataset                       192KB  2023-07-31 02:22:58            600         31  1.0              \n",
            "joebeachcapital/ransomware-attacks                          Ransomware Attacks                                34KB  2023-08-03 00:41:08            362         28  1.0              \n",
            "pavankrishnanarne/global-stock-market-2008-present          Global Stock Market (2008-2023)                    1MB  2023-07-30 06:17:44            815         28  0.9411765        \n",
            "alirezajavid1999/google-stock-2010-2023                     Google Stock (2010-2023)                          76KB  2023-07-29 23:57:16            766         29  1.0              \n",
            "sudheerp2147234/salary-dataset-based-on-country-and-race    Salary dataset based on country and race          49KB  2023-07-06 09:10:21           2764         56  1.0              \n",
            "abhijitdahatonde/real-world-smartphones-dataset             Real World Smartphone's Dataset                   17KB  2023-08-02 07:03:01            647         27  1.0              \n",
            "joebeachcapital/worlds-biggest-data-breaches-and-hacks      World's Biggest Data Breaches & Hacks             49KB  2023-08-01 04:31:23            462         36  1.0              \n",
            "joebeachcapital/top-10000-spotify-songs-1960-now            Top 10000 Songs on Spotify 1960-Now                2MB  2023-07-26 00:54:14           1451         55  1.0              \n",
            "mexwell/world-airports                                      ✈️ World Airports                                  5MB  2023-07-25 08:37:38           1014         28  1.0              \n",
            "harishkumardatalab/housing-price-prediction                 Housing Price Prediction                           5KB  2023-07-07 04:34:24           3606         70  1.0              \n",
            "joebeachcapital/global-education-statistics-all-indicators  Global Education Statistics - All Indicators      17MB  2023-08-09 02:44:21            596         31  0.9411765        \n",
            "nathaniellybrand/chicago-car-crash-dataset                  Chicago Car Crash Dataset                        116MB  2023-07-31 19:58:33            502         28  1.0              \n",
            "bhanupratapbiswas/olympic-data                              Olympic Data 🥇 ⛳🥅🏋️‍♀️🚴‍♂️                         1MB  2023-07-20 09:30:19           2084         59  1.0              \n",
            "khushipitroda/top-250-indian-movies-imdb                    Top 250 Indian movies IMDB                        24KB  2023-08-02 04:37:17            428         32  1.0              \n"
          ]
        }
      ]
    },
    {
      "cell_type": "code",
      "source": [
        "# Downloading the Dataset from Kaggle\n",
        "!kaggle datasets download -d muhammadshahidazeem/customer-churn-dataset"
      ],
      "metadata": {
        "colab": {
          "base_uri": "https://localhost:8080/"
        },
        "id": "5ebi7alJ-sru",
        "outputId": "99b60657-38a5-4bb7-f80e-3f4a2617e5df"
      },
      "execution_count": null,
      "outputs": [
        {
          "output_type": "stream",
          "name": "stdout",
          "text": [
            "Downloading customer-churn-dataset.zip to /content\n",
            "\r  0% 0.00/6.66M [00:00<?, ?B/s]\r 75% 5.00M/6.66M [00:00<00:00, 42.8MB/s]\n",
            "\r100% 6.66M/6.66M [00:00<00:00, 54.0MB/s]\n"
          ]
        }
      ]
    },
    {
      "cell_type": "code",
      "source": [
        "# Unzipping content to another folder\n",
        "!unzip /content/customer-churn-dataset.zip -d customer-churn"
      ],
      "metadata": {
        "colab": {
          "base_uri": "https://localhost:8080/"
        },
        "id": "Ps8yicsWHzmQ",
        "outputId": "4bb53e6f-a7b0-412c-8505-dcdc8ece0088"
      },
      "execution_count": null,
      "outputs": [
        {
          "output_type": "stream",
          "name": "stdout",
          "text": [
            "Archive:  /content/customer-churn-dataset.zip\n",
            "  inflating: customer-churn/customer_churn_dataset-testing-master.csv  \n",
            "  inflating: customer-churn/customer_churn_dataset-training-master.csv  \n"
          ]
        }
      ]
    },
    {
      "cell_type": "markdown",
      "source": [
        "# Machine Learning"
      ],
      "metadata": {
        "id": "ei4QRDE23Wx_"
      }
    },
    {
      "cell_type": "code",
      "source": [
        "from pyspark.sql import SparkSession\n",
        "from pyspark.conf import SparkConf\n",
        "\n",
        "pyspark_config = [\n",
        "    ('spark.app.name','Customer-Churn'),\n",
        "    ('spark.executor.memory','4g'),\n",
        "    ('spark.master','local[*]'),\n",
        "    ('spark.driver.memory','4g'),\n",
        "    ('spark.driver.cores','2')\n",
        "]\n",
        "\n",
        "conf = SparkConf().setAll(pyspark_config)\n",
        "\n",
        "sp = SparkSession.builder.config(conf=conf).getOrCreate()\n",
        "\n",
        "# print(sp.sparkContext.getConf().get(\"spark.master\"))\n",
        "# print(sp.sparkContext.getConf().get(\"spark.executor.memory\"))\n",
        "\n",
        "for configuration in pyspark_config:\n",
        "    config_value = sp.sparkContext.getConf().get(configuration[0])\n",
        "    print(f\"{configuration[0]}: {config_value}\")"
      ],
      "metadata": {
        "id": "NHEV5rI13z62",
        "outputId": "55ccf3f4-69f0-417e-d786-7b6894e75762",
        "colab": {
          "base_uri": "https://localhost:8080/"
        }
      },
      "execution_count": null,
      "outputs": [
        {
          "output_type": "stream",
          "name": "stdout",
          "text": [
            "spark.app.name: Customer-Churn\n",
            "spark.executor.memory: 4g\n",
            "spark.master: local[*]\n",
            "spark.driver.memory: 4g\n",
            "spark.driver.cores: 2\n"
          ]
        }
      ]
    },
    {
      "cell_type": "code",
      "source": [
        "FILEPATH = \"/content/customer-churn/customer_churn_dataset-training-master.csv\"\n",
        "# Read csv file (if another file  type, search PySpark documentation)\n",
        "df = sp.read.options(header=True, inferSchema=True).csv(FILEPATH)\n",
        "df.printSchema()"
      ],
      "metadata": {
        "colab": {
          "base_uri": "https://localhost:8080/"
        },
        "id": "TH95UKu3fPZx",
        "outputId": "697d3ab8-3ec8-473d-aa74-f2ae9f1c1973"
      },
      "execution_count": null,
      "outputs": [
        {
          "output_type": "stream",
          "name": "stdout",
          "text": [
            "root\n",
            " |-- CustomerID: integer (nullable = true)\n",
            " |-- Age: integer (nullable = true)\n",
            " |-- Gender: string (nullable = true)\n",
            " |-- Tenure: integer (nullable = true)\n",
            " |-- Usage Frequency: integer (nullable = true)\n",
            " |-- Support Calls: integer (nullable = true)\n",
            " |-- Payment Delay: integer (nullable = true)\n",
            " |-- Subscription Type: string (nullable = true)\n",
            " |-- Contract Length: string (nullable = true)\n",
            " |-- Total Spend: double (nullable = true)\n",
            " |-- Last Interaction: integer (nullable = true)\n",
            " |-- Churn: integer (nullable = true)\n",
            "\n"
          ]
        }
      ]
    },
    {
      "cell_type": "code",
      "source": [
        "# train and test split\n",
        "seed = 42\n",
        "df_train, df_test = df.randomSplit(weights=[0.7, 0.3], seed=seed)"
      ],
      "metadata": {
        "id": "Ah9T5mUc-FDd"
      },
      "execution_count": null,
      "outputs": []
    },
    {
      "cell_type": "code",
      "source": [
        "num_churns = df_test.rdd.map(lambda x: x[\"Churn\"]==1).sum()\n",
        "total = df_test.count()\n",
        "print(f'Churns: {num_churns}\\nTotal observations: {total}\\nProportion of Churns: {num_churns/total:.4%}')"
      ],
      "metadata": {
        "id": "086zpZk_73fn",
        "outputId": "4ff3eb26-3909-48ac-87c9-c8cb24d4f83a",
        "colab": {
          "base_uri": "https://localhost:8080/"
        }
      },
      "execution_count": null,
      "outputs": [
        {
          "output_type": "stream",
          "name": "stdout",
          "text": [
            "Churns: 75143\n",
            "Total observations: 132195\n",
            "Proportion of Churns: 56.8425%\n"
          ]
        }
      ]
    },
    {
      "cell_type": "markdown",
      "source": [
        "A \"model\" predicting only churns (on test set) would predict 56.82% correct answers (which in this case would also be the accuracy)."
      ],
      "metadata": {
        "id": "ddiJpK8pIOow"
      }
    },
    {
      "cell_type": "code",
      "source": [
        "from pyspark.sql.functions import count, when, isnull\n",
        "# Checking Null values\n",
        "df.agg(*[count(when(isnull(c), c)).alias(c) for c in df.columns]).show()"
      ],
      "metadata": {
        "colab": {
          "base_uri": "https://localhost:8080/"
        },
        "id": "OpveK3Wi8mWn",
        "outputId": "974cf8fb-09ca-4c79-d3e2-9c6be070b98f"
      },
      "execution_count": null,
      "outputs": [
        {
          "output_type": "stream",
          "name": "stdout",
          "text": [
            "+----------+---+------+------+---------------+-------------+-------------+-----------------+---------------+-----------+----------------+-----+\n",
            "|CustomerID|Age|Gender|Tenure|Usage Frequency|Support Calls|Payment Delay|Subscription Type|Contract Length|Total Spend|Last Interaction|Churn|\n",
            "+----------+---+------+------+---------------+-------------+-------------+-----------------+---------------+-----------+----------------+-----+\n",
            "|         1|  1|     1|     1|              1|            1|            1|                1|              1|          1|               1|    1|\n",
            "+----------+---+------+------+---------------+-------------+-------------+-----------------+---------------+-----------+----------------+-----+\n",
            "\n"
          ]
        }
      ]
    },
    {
      "cell_type": "code",
      "source": [
        "from pyspark.ml.feature import VectorAssembler\n",
        "from pyspark.sql.functions import col\n",
        "from pyspark.ml.classification import RandomForestClassifier\n",
        "from pyspark.ml import Pipeline\n",
        "# USe int and double types columns as features for random forest model\n",
        "feature_col = [col_name for col_name, col_type in df.dtypes if (col_type in ('int', 'double') and (col_name not in ('Churn', 'CustomerID')))]\n",
        "assembler = VectorAssembler(inputCols=feature_col, outputCol='features', handleInvalid='skip')\n",
        "classifier = RandomForestClassifier(numTrees=2, maxDepth=2, featuresCol='features', labelCol=\"Churn\", seed=42)\n",
        "pipeline = Pipeline(stages=[assembler, classifier])"
      ],
      "metadata": {
        "id": "C2kSJ8Cggydj"
      },
      "execution_count": 172,
      "outputs": []
    },
    {
      "cell_type": "code",
      "source": [
        "model = pipeline.fit(df_train)"
      ],
      "metadata": {
        "id": "a5h4M1Cj60eB"
      },
      "execution_count": 173,
      "outputs": []
    },
    {
      "cell_type": "code",
      "source": [
        "predictions = model.transform(df_test).select('Churn', 'prediction', 'probability')"
      ],
      "metadata": {
        "id": "4gzgA7DHEldZ"
      },
      "execution_count": 186,
      "outputs": []
    },
    {
      "cell_type": "code",
      "source": [
        "predictions.groupby('Churn', 'prediction').count().show()"
      ],
      "metadata": {
        "colab": {
          "base_uri": "https://localhost:8080/"
        },
        "id": "2kb9PK-wVxkW",
        "outputId": "0f1dba72-ee3a-4df3-b4b6-e3fcc52e5b54"
      },
      "execution_count": 187,
      "outputs": [
        {
          "output_type": "stream",
          "name": "stdout",
          "text": [
            "+-----+----------+-----+\n",
            "|Churn|prediction|count|\n",
            "+-----+----------+-----+\n",
            "|    1|       0.0|17421|\n",
            "|    0|       0.0|56661|\n",
            "|    1|       1.0|57722|\n",
            "|    0|       1.0|  391|\n",
            "+-----+----------+-----+\n",
            "\n"
          ]
        }
      ]
    },
    {
      "cell_type": "code",
      "source": [
        "from pyspark.ml.evaluation import BinaryClassificationEvaluator, MulticlassClassificationEvaluator\n",
        "binary_evaluator = BinaryClassificationEvaluator(labelCol=\"Churn\", rawPredictionCol=\"prediction\")\n",
        "multi_evaluator = MulticlassClassificationEvaluator(labelCol=\"Churn\", predictionCol=\"prediction\", probabilityCol='probability')\n",
        "\n",
        "binary_metric_names = ['areaUnderROC', 'areaUnderPR']\n",
        "\n",
        "multiclass_metric_names = \"f1|accuracy|weightedPrecision|weightedRecall|weightedTruePositiveRate| weightedFalsePositiveRate|weightedFMeasure|truePositiveRateByLabel| falsePositiveRateByLabel|precisionByLabel|recallByLabel|fMeasureByLabel| logLoss|hammingLoss\"\n",
        "multiclass_metric_names = [item.strip() for item in multiclass_metric_names.split('|')]\n",
        "\n",
        "for item in binary_metric_names:\n",
        "    binary_metric = binary_evaluator.evaluate(\n",
        "        dataset=predictions,\n",
        "        params={\n",
        "            binary_evaluator.metricName: item\n",
        "            }\n",
        "    )\n",
        "    print(f'{item}: {binary_metric}')\n",
        "\n",
        "for item in multiclass_metric_names:\n",
        "    multi_metric = multi_evaluator.evaluate(\n",
        "        dataset=predictions,\n",
        "        params={\n",
        "            multi_evaluator.metricName: item\n",
        "        }\n",
        "    )\n",
        "    print(f'{item}: {multi_metric}')"
      ],
      "metadata": {
        "id": "GcM_EPxoE1Qt",
        "colab": {
          "base_uri": "https://localhost:8080/"
        },
        "outputId": "fa5b758a-0394-4efc-ae36-092cf86001af"
      },
      "execution_count": 188,
      "outputs": [
        {
          "output_type": "stream",
          "name": "stdout",
          "text": [
            "areaUnderROC: 0.8806543204068423\n",
            "areaUnderPR: 0.9440239793162764\n",
            "f1: 0.8653989781936924\n",
            "accuracy: 0.8652596542985741\n",
            "weightedPrecision: 0.8946871216437382\n",
            "weightedRecall: 0.8652596542985741\n",
            "weightedTruePositiveRate: 0.8652596542985741\n",
            "weightedFalsePositiveRate: 0.10395101348488958\n",
            "weightedFMeasure: 0.8653989781936924\n",
            "truePositiveRateByLabel: 0.9931466030989273\n",
            "falsePositiveRateByLabel: 0.2318379622852428\n",
            "precisionByLabel: 0.7648416619421722\n",
            "recallByLabel: 0.9931466030989273\n",
            "fMeasureByLabel: 0.8641694754983452\n",
            "logLoss: 0.3209220866027864\n",
            "hammingLoss: 0.13474034570142593\n"
          ]
        }
      ]
    }
  ]
}